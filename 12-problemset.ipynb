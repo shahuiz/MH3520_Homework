{
  "cells": [
    {
      "cell_type": "markdown",
      "metadata": {
        "id": "VMLO4JH_PT7p"
      },
      "source": [
        "# 12 Problemset"
      ]
    },
    {
      "cell_type": "markdown",
      "metadata": {
        "id": "MlntUONI29MU"
      },
      "source": [
        "## Setup\n",
        "\n",
        "**Instructions:** Preferably run this notebook on a GPU. On Google Colab, you can do this by selecting Runtime > Change Runtime Type > Hardware Acceleration > GPU. Start by loading the necessary libraries as follows:"
      ]
    },
    {
      "cell_type": "code",
      "execution_count": 1,
      "metadata": {
        "id": "wH8ZAy3W20dA"
      },
      "outputs": [
        {
          "ename": "",
          "evalue": "",
          "output_type": "error",
          "traceback": [
            "\u001b[1;31mThe Kernel crashed while executing code in the the current cell or a previous cell. Please review the code in the cell(s) to identify a possible cause of the failure. Click <a href='https://aka.ms/vscodeJupyterKernelCrash'>here</a> for more info. View Jupyter <a href='command:jupyter.viewOutput'>log</a> for further details."
          ]
        },
        {
          "ename": "",
          "evalue": "",
          "output_type": "error",
          "traceback": [
            "\u001b[1;31mCanceled future for execute_request message before replies were done"
          ]
        }
      ],
      "source": [
        "import tensorflow as tf\n",
        "import numpy as np\n",
        "import matplotlib.pyplot as plt\n",
        "import scipy\n",
        "import cv2\n",
        "%matplotlib inline"
      ]
    },
    {
      "cell_type": "markdown",
      "metadata": {
        "id": "Ajx39vZh46IK"
      },
      "source": [
        "## 12.1 Constructing a bump function using neural networks\n",
        "\n",
        "*   Write down the formula of the bump function which is realized by the neural network below. \n",
        "\n",
        "$Output=\\rho_2 (\\rho_1 (Input⋅w_1+b_1)^T⋅w_2+b_2)$\n",
        "1.  $\\rho_1$ and $\\rho_2$ are RELU activation function\n",
        "2.  $w_1=\\begin{pmatrix}1&1&1&0&0&0\\\\0&0&0&1&1&1\\end{pmatrix}$\n",
        "3.  $b_1=\\begin{pmatrix}0&-1&-2&0&-1&-2\\end{pmatrix}$\n",
        "4.  $w_2=\\begin{pmatrix}1&-2&1&1&-2&1\\end{pmatrix}$\n",
        "5.  $b_2=\\begin{pmatrix}-1\\end{pmatrix}$\n",
        "\n",
        "\n",
        "*   Draw the computational graph of the network (i.e., the graph whose vertices are neurons and whose edges are non-zero weights)."
      ]
    },
    {
      "cell_type": "code",
      "execution_count": null,
      "metadata": {
        "id": "GvKEW7uT_hw4"
      },
      "outputs": [],
      "source": [
        "input_shape = (None, 1, 2) # (sample size, number of bump functions, spatial dimension)\n",
        "w1 = np.array([[[1,1,1,0,0,0], [0,0,0,1,1,1]]], dtype='float32')\n",
        "b1 = np.array([0,-1,-2,0,-1,-2], dtype='float32')\n",
        "w2 = np.array([1,-2,1,1,-2,1], dtype='float32')\n",
        "b2 = np.array([-1], dtype='float32')\n",
        "bump = tf.keras.models.Sequential([\n",
        "  tf.keras.Input(shape=(1,2)),\n",
        "  tf.keras.layers.Conv1D(\n",
        "    6, \n",
        "    1, \n",
        "    padding='same', \n",
        "    strides=1, \n",
        "    activation='relu', \n",
        "    kernel_initializer=tf.keras.initializers.Constant(w1),\n",
        "    bias_initializer=tf.keras.initializers.Constant(b1),\n",
        "    trainable=False),\n",
        "  tf.keras.layers.Dense(\n",
        "    1, \n",
        "    activation='relu', \n",
        "    kernel_initializer=tf.keras.initializers.Constant(w2),\n",
        "    bias_initializer=tf.keras.initializers.Constant(b2),\n",
        "    trainable=False)])"
      ]
    },
    {
      "cell_type": "code",
      "execution_count": null,
      "metadata": {
        "colab": {
          "base_uri": "https://localhost:8080/",
          "height": 304
        },
        "id": "ZpBFZIZWMuQ1",
        "outputId": "fa656ce2-daed-4b08-b800-0d3d4a30082d"
      },
      "outputs": [
        {
          "data": {
            "text/plain": [
              "<matplotlib.image.AxesImage at 0x7f1853dd2b90>"
            ]
          },
          "execution_count": 3,
          "metadata": {},
          "output_type": "execute_result"
        },
        {
          "data": {
            "image/png": "[encoded data removed]",
            "text/plain": [
              "<Figure size 432x288 with 1 Axes>"
            ]
          },
          "metadata": {
            "needs_background": "light"
          },
          "output_type": "display_data"
        }
      ],
      "source": [
        "xy = np.array([[[x,y]] for x in np.linspace(0,2,100) for y in np.linspace(0,2,100)],dtype='float32')\n",
        "z = np.reshape(bump(xy),(100,100))\n",
        "plt.imshow(z, extent=(0,2,0,2))"
      ]
    },
    {
      "cell_type": "markdown",
      "metadata": {
        "id": "nCZohuFGDN9n"
      },
      "source": [
        "## 12.2 Image reconstruction using neural networks\n",
        "\n",
        "*   Sketch the computational graph of the network which is implemented by the network below. \n",
        "*   Plot the output of the network *before* training. How does it depend on the parameter `stddev` which is used in the random initialization of the bottom layer? \n",
        "*   What initialization of the bottom layer would correspond to wavelet-like scalings and translations? Does this coincide with any readily [implemented](https://keras.io/api/layers/initializers/) network initialization? \n",
        "*   Find out what kind of output the network produces outside of the boundary of the image. "
      ]
    },
    {
      "cell_type": "code",
      "execution_count": null,
      "metadata": {
        "id": "x0iTV51tkiDi"
      },
      "outputs": [],
      "source": [
        "n_bumps = 1000\n",
        "n_channels = 3\n",
        "w1 = np.array([[[1,1,1,0,0,0], [0,0,0,1,1,1]]], dtype='float32')\n",
        "b1 = np.array([0,-1,-2,0,-1,-2], dtype='float32')\n",
        "w2 = np.array([1,-2,1,1,-2,1], dtype='float32')\n",
        "b2 = np.array([-1], dtype='float32')\n",
        "model = tf.keras.models.Sequential([\n",
        "  tf.keras.Input(shape=(2,)),\n",
        "  tf.keras.layers.Dense(\n",
        "      2*n_bumps, \n",
        "      kernel_initializer = tf.keras.initializers.RandomNormal(stddev=5.),\n",
        "      bias_initializer = tf.keras.initializers.RandomNormal(stddev=5.)),\n",
        "  tf.keras.layers.Reshape((n_bumps,2)),\n",
        "  tf.keras.layers.Conv1D(\n",
        "    6, \n",
        "    1, \n",
        "    padding='same', \n",
        "    strides=1, \n",
        "    activation='relu', \n",
        "    kernel_initializer=tf.keras.initializers.Constant(w1),\n",
        "    bias_initializer=tf.keras.initializers.Constant(b1),\n",
        "    trainable=False),\n",
        "  tf.keras.layers.Dense(\n",
        "    1, \n",
        "    activation='relu', \n",
        "    kernel_initializer=tf.keras.initializers.Constant(w2),\n",
        "    bias_initializer=tf.keras.initializers.Constant(b2),\n",
        "    trainable=False),\n",
        "  tf.keras.layers.Reshape((n_bumps,)),\n",
        "  tf.keras.layers.Dense(n_channels)])\n",
        "model.compile(optimizer=\"adam\", loss='mean_squared_error')"
      ]
    },
    {
      "cell_type": "code",
      "execution_count": null,
      "metadata": {
        "colab": {
          "base_uri": "https://localhost:8080/",
          "height": 302
        },
        "id": "DkhxL70ck7cN",
        "outputId": "c0cc3af5-e1d2-4c77-fa2e-38f5a4f240e0"
      },
      "outputs": [
        {
          "name": "stdout",
          "output_type": "stream",
          "text": [
            "(48, 64, 3)\n"
          ]
        },
        {
          "data": {
            "image/png": "[encoded data removed]",
            "text/plain": [
              "<Figure size 432x288 with 1 Axes>"
            ]
          },
          "metadata": {
            "needs_background": "light"
          },
          "output_type": "display_data"
        }
      ],
      "source": [
        "img = scipy.misc.face()\n",
        "img = cv2.pyrDown(img)\n",
        "img = cv2.pyrDown(img)\n",
        "img = cv2.pyrDown(img)\n",
        "img = cv2.pyrDown(img)\n",
        "plt.imshow(img)\n",
        "print(img.shape)\n",
        "plt.imshow(img)\n",
        "xy = 2.*np.array([[x/img.shape[0], y/img.shape[1]] \n",
        "          for x in np.arange(img.shape[0]) \n",
        "          for y in np.arange(img.shape[1])], \n",
        "          dtype='float32') - 1.\n",
        "rgb = img.reshape((img.shape[0]*img.shape[1],img.shape[2])) / 255. - 0.5\n",
        "data = tf.data.Dataset.from_tensor_slices((xy, rgb)).shuffle(2000).batch(20)"
      ]
    },
    {
      "cell_type": "code",
      "execution_count": null,
      "metadata": {
        "id": "favI2zHvm3pP"
      },
      "outputs": [],
      "source": [
        "history = model.fit(data, epochs=30, verbose=0)"
      ]
    },
    {
      "cell_type": "code",
      "execution_count": null,
      "metadata": {
        "colab": {
          "base_uri": "https://localhost:8080/",
          "height": 330
        },
        "id": "z3l60D0E9tAY",
        "outputId": "d61888d7-3693-4d1f-b36d-5579f3f8730d"
      },
      "outputs": [
        {
          "name": "stdout",
          "output_type": "stream",
          "text": [
            "96/96 [==============================] - 0s 1ms/step\n"
          ]
        },
        {
          "name": "stderr",
          "output_type": "stream",
          "text": [
            "WARNING:matplotlib.image:Clipping input data to the valid range for imshow with RGB data ([0..1] for floats or [0..255] for integers).\n"
          ]
        },
        {
          "data": {
            "text/plain": [
              "<matplotlib.image.AxesImage at 0x7f17ec108210>"
            ]
          },
          "execution_count": 7,
          "metadata": {},
          "output_type": "execute_result"
        },
        {
          "data": {
            "image/png": "[encoded data removed]",
            "text/plain": [
              "<Figure size 432x288 with 1 Axes>"
            ]
          },
          "metadata": {
            "needs_background": "light"
          },
          "output_type": "display_data"
        }
      ],
      "source": [
        "plt.imshow(model.predict(xy).reshape(img.shape) + 0.5)"
      ]
    },
    {
      "cell_type": "code",
      "execution_count": null,
      "metadata": {},
      "outputs": [],
      "source": [
        "# Before training\n",
        "plt.imshow(model.predict(xy).reshape(img.shape)+0.5)"
      ]
    },
    {
      "cell_type": "code",
      "execution_count": null,
      "metadata": {},
      "outputs": [],
      "source": [
        "model1 = tf.keras.models.Sequential([\n",
        "  tf.keras.Input(shape=(2,)),\n",
        "  tf.keras.layers.Dense(\n",
        "      2*n_bumps, \n",
        "      kernel_initializer = tf.keras.initializers.RandomNormal(stddev=1.),\n",
        "      bias_initializer = tf.keras.initializers.RandomNormal(stddev=1.)),\n",
        "  tf.keras.layers.Reshape((n_bumps,2)),\n",
        "  tf.keras.layers.Conv1D(\n",
        "    6, \n",
        "    1, \n",
        "    padding='same', \n",
        "    strides=1, \n",
        "    activation='relu', \n",
        "    kernel_initializer=tf.keras.initializers.Constant(w1),\n",
        "    bias_initializer=tf.keras.initializers.Constant(b1),\n",
        "    trainable=False),\n",
        "  tf.keras.layers.Dense(\n",
        "    1, \n",
        "    activation='relu', \n",
        "    kernel_initializer=tf.keras.initializers.Constant(w2),\n",
        "    bias_initializer=tf.keras.initializers.Constant(b2),\n",
        "    trainable=False),\n",
        "  tf.keras.layers.Reshape((n_bumps,)),\n",
        "  tf.keras.layers.Dense(n_channels)])\n",
        "model1.compile(optimizer=\"adam\", loss='mean_squared_error')\n",
        "plt.imshow(model1.predict(xy).reshape(img.shape)+0.5)"
      ]
    },
    {
      "cell_type": "code",
      "execution_count": null,
      "metadata": {},
      "outputs": [],
      "source": [
        "model1 = tf.keras.models.Sequential([\n",
        "  tf.keras.Input(shape=(2,)),\n",
        "  tf.keras.layers.Dense(\n",
        "      2*n_bumps, \n",
        "      kernel_initializer = tf.keras.initializers.RandomNormal(stddev=10.),\n",
        "      bias_initializer = tf.keras.initializers.RandomNormal(stddev=10.)),\n",
        "  tf.keras.layers.Reshape((n_bumps,2)),\n",
        "  tf.keras.layers.Conv1D(\n",
        "    6, \n",
        "    1, \n",
        "    padding='same', \n",
        "    strides=1, \n",
        "    activation='relu', \n",
        "    kernel_initializer=tf.keras.initializers.Constant(w1),\n",
        "    bias_initializer=tf.keras.initializers.Constant(b1),\n",
        "    trainable=False),\n",
        "  tf.keras.layers.Dense(\n",
        "    1, \n",
        "    activation='relu', \n",
        "    kernel_initializer=tf.keras.initializers.Constant(w2),\n",
        "    bias_initializer=tf.keras.initializers.Constant(b2),\n",
        "    trainable=False),\n",
        "  tf.keras.layers.Reshape((n_bumps,)),\n",
        "  tf.keras.layers.Dense(n_channels)])\n",
        "model1.compile(optimizer=\"adam\", loss='mean_squared_error')\n",
        "plt.imshow(model1.predict(xy).reshape(img.shape)+0.5)"
      ]
    },
    {
      "cell_type": "code",
      "execution_count": null,
      "metadata": {},
      "outputs": [],
      "source": [
        "history = model.fit(data, epochs=30, verbose=0)"
      ]
    }
  ],
  "metadata": {
    "accelerator": "GPU",
    "colab": {
      "collapsed_sections": [],
      "provenance": []
    },
    "gpuClass": "standard",
    "kernelspec": {
      "display_name": "Python 3.8.8 ('base')",
      "language": "python",
      "name": "python3"
    },
    "language_info": {
      "codemirror_mode": {
        "name": "ipython",
        "version": 3
      },
      "file_extension": ".py",
      "mimetype": "text/x-python",
      "name": "python",
      "nbconvert_exporter": "python",
      "pygments_lexer": "ipython3",
      "version": "3.8.8"
    },
    "vscode": {
      "interpreter": {
        "hash": "40d3a090f54c6569ab1632332b64b2c03c39dcf918b08424e98f38b5ae0af88f"
      }
    }
  },
  "nbformat": 4,
  "nbformat_minor": 0
}
