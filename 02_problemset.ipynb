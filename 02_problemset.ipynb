{
  "nbformat": 4,
  "nbformat_minor": 0,
  "metadata": {
    "colab": {
      "name": "02_problemset.ipynb",
      "provenance": [],
      "collapsed_sections": [],
      "include_colab_link": true
    },
    "kernelspec": {
      "name": "python3",
      "display_name": "Python 3"
    },
    "language_info": {
      "name": "python"
    },
    "accelerator": "GPU",
    "gpuClass": "standard"
  },
  "cells": [
    {
      "cell_type": "markdown",
      "metadata": {
        "id": "view-in-github",
        "colab_type": "text"
      },
      "source": [
        "<a href=\"https://colab.research.google.com/github/xxxzty/MH3520_Mathematics_of_Deep_Learning/blob/main/02_problemset.ipynb\" target=\"_parent\"><img src=\"https://colab.research.google.com/assets/colab-badge.svg\" alt=\"Open In Colab\"/></a>"
      ]
    },
    {
      "cell_type": "markdown",
      "source": [
        "# 2 Problemset \n",
        "\n",
        "**Hint:** You may copy and adapt some code from the [TensorFlow 2 Quickstart for Beginners](https://colab.research.google.com/github/tensorflow/docs/blob/master/site/en/tutorials/quickstart/beginner.ipynb). \n",
        "\n",
        "**Instructions:** Fill in the missing code, which is marked by `# TODO`. If you can, run this notebook on a GPU. On Google Colab, you can do this by selecting Runtime > Change Runtime Type > Hardware Acceleration > GPU. Start by loading the necessary libraries as follows:\n",
        "\n"
      ],
      "metadata": {
        "id": "MlntUONI29MU"
      }
    },
    {
      "cell_type": "code",
      "execution_count": null,
      "metadata": {
        "id": "wH8ZAy3W20dA"
      },
      "outputs": [],
      "source": [
        "import tensorflow as tf\n",
        "import numpy as np\n",
        "from matplotlib import pyplot as plt\n",
        "%matplotlib inline"
      ]
    },
    {
      "cell_type": "markdown",
      "source": [
        "## 2.4 Defining and plotting a simple multi-layer perceptron"
      ],
      "metadata": {
        "id": "0bFyV1sQVwze"
      }
    },
    {
      "cell_type": "markdown",
      "source": [
        "Define a `tf.keras.model` to represent multi-layer perceptrons of the form\n",
        "$$f(x)=\\sum_{i=1}^{50} w_i \\rho(a_i x+b_i),$$\n",
        "where $x,w_i,a_i,b_i$ are real numbers, and $\\rho(x)=\\max\\{0,x\\}$."
      ],
      "metadata": {
        "id": "GXecTOy15DoG"
      }
    },
    {
      "cell_type": "code",
      "source": [
        "model = tf.keras.models.Sequential([\n",
        "  # TODO add input and dense layers here\n",
        "  tf.keras.layers.Input(shape=1),\n",
        "  tf.keras.layers.Dense(50, activation='relu', name='input_layer'),\n",
        "  tf.keras.layers.Dense(1, name='output_layer')\n",
        "  \n",
        "])\n",
        "\n",
        "model.compile()\n",
        "model.summary()\n",
        "plt.plot(np.linspace(-3, 3, 100), model.predict(np.linspace(-3, 3, 100)))\n",
        "plt.show()"
      ],
      "metadata": {
        "id": "ft-1Aq1l4EPt",
        "colab": {
          "base_uri": "https://localhost:8080/",
          "height": 491
        },
        "outputId": "81970692-3e0f-42d4-e0f5-1a12b1c3d63c"
      },
      "execution_count": null,
      "outputs": [
        {
          "output_type": "stream",
          "name": "stdout",
          "text": [
            "Model: \"sequential_18\"\n",
            "_________________________________________________________________\n",
            " Layer (type)                Output Shape              Param #   \n",
            "=================================================================\n",
            " input_layer (Dense)         (None, 50)                100       \n",
            "                                                                 \n",
            " output_layer (Dense)        (None, 1)                 51        \n",
            "                                                                 \n",
            "=================================================================\n",
            "Total params: 151\n",
            "Trainable params: 151\n",
            "Non-trainable params: 0\n",
            "_________________________________________________________________\n"
          ]
        },
        {
          "output_type": "display_data",
          "data": {
            "text/plain": [
              "<Figure size 432x288 with 1 Axes>"
            ],
            "image/png": "[encoded data removed]"
          },
          "metadata": {
            "needs_background": "light"
          }
        }
      ]
    },
    {
      "cell_type": "markdown",
      "source": [
        "You should see a piecewise linear function with a single kink at zero. This is not a coincidence: the bias of both layers has been initialized to zero. Here is how you can verify this: "
      ],
      "metadata": {
        "id": "-LW-bt1sFmoQ"
      }
    },
    {
      "cell_type": "code",
      "source": [
        "# bottom (input) layer\n",
        "model.get_layer(index=0).weights"
      ],
      "metadata": {
        "id": "4oZW45Lt9WcR",
        "colab": {
          "base_uri": "https://localhost:8080/"
        },
        "outputId": "0d21c94a-0146-411e-937b-2f7a3fb72950"
      },
      "execution_count": null,
      "outputs": [
        {
          "output_type": "execute_result",
          "data": {
            "text/plain": [
              "[<tf.Variable 'input_layer/kernel:0' shape=(1, 50) dtype=float32, numpy=\n",
              " array([[-0.04805234, -0.2185728 , -0.26871797, -0.2956513 , -0.16373263,\n",
              "          0.22968134, -0.34253332,  0.15763083,  0.18858573,  0.29608062,\n",
              "          0.32303348,  0.0997625 ,  0.14592832,  0.31345174, -0.01531091,\n",
              "         -0.22578707, -0.21481065,  0.29901394,  0.27084336, -0.14318137,\n",
              "         -0.25961843,  0.0118714 , -0.10400975,  0.33535632, -0.2038047 ,\n",
              "         -0.12937963, -0.13139781,  0.13283208, -0.28131866, -0.20981221,\n",
              "         -0.15661028,  0.16153553,  0.22627708,  0.31186268,  0.2879198 ,\n",
              "         -0.12284525, -0.14037004, -0.17591166, -0.29869634, -0.15227218,\n",
              "          0.04775631,  0.08777988,  0.28347102,  0.05453864,  0.01977038,\n",
              "         -0.3311531 , -0.08735105,  0.19567034,  0.14866206,  0.2863727 ]],\n",
              "       dtype=float32)>,\n",
              " <tf.Variable 'input_layer/bias:0' shape=(50,) dtype=float32, numpy=\n",
              " array([0., 0., 0., 0., 0., 0., 0., 0., 0., 0., 0., 0., 0., 0., 0., 0., 0.,\n",
              "        0., 0., 0., 0., 0., 0., 0., 0., 0., 0., 0., 0., 0., 0., 0., 0., 0.,\n",
              "        0., 0., 0., 0., 0., 0., 0., 0., 0., 0., 0., 0., 0., 0., 0., 0.],\n",
              "       dtype=float32)>]"
            ]
          },
          "metadata": {},
          "execution_count": 27
        }
      ]
    },
    {
      "cell_type": "code",
      "source": [
        "# top (output) layer\n",
        "model.get_layer(index=1).weights"
      ],
      "metadata": {
        "id": "Nx7gyX3b_EoV",
        "colab": {
          "base_uri": "https://localhost:8080/"
        },
        "outputId": "d219c104-97c7-44fc-a29f-593c8d4645d7"
      },
      "execution_count": null,
      "outputs": [
        {
          "output_type": "execute_result",
          "data": {
            "text/plain": [
              "[<tf.Variable 'output_layer/kernel:0' shape=(50, 1) dtype=float32, numpy=\n",
              " array([[ 0.3122312 ],\n",
              "        [ 0.25986496],\n",
              "        [-0.13198186],\n",
              "        [-0.18502374],\n",
              "        [-0.24099112],\n",
              "        [ 0.15735438],\n",
              "        [ 0.11085275],\n",
              "        [-0.12076108],\n",
              "        [-0.23043887],\n",
              "        [ 0.13313106],\n",
              "        [ 0.30018106],\n",
              "        [ 0.11095741],\n",
              "        [ 0.1266025 ],\n",
              "        [-0.03661412],\n",
              "        [ 0.19607285],\n",
              "        [ 0.00196707],\n",
              "        [-0.21255435],\n",
              "        [-0.0048039 ],\n",
              "        [-0.07668841],\n",
              "        [ 0.22239527],\n",
              "        [-0.0702107 ],\n",
              "        [ 0.23092905],\n",
              "        [-0.17497541],\n",
              "        [ 0.0625222 ],\n",
              "        [ 0.10768422],\n",
              "        [ 0.09086534],\n",
              "        [-0.09275153],\n",
              "        [-0.12729546],\n",
              "        [-0.2960264 ],\n",
              "        [ 0.13242036],\n",
              "        [-0.30098575],\n",
              "        [ 0.16117474],\n",
              "        [ 0.29241946],\n",
              "        [ 0.26928803],\n",
              "        [ 0.10925624],\n",
              "        [-0.18723622],\n",
              "        [ 0.0677973 ],\n",
              "        [ 0.10119113],\n",
              "        [ 0.09246162],\n",
              "        [-0.20258966],\n",
              "        [ 0.21064308],\n",
              "        [ 0.02577102],\n",
              "        [-0.06875017],\n",
              "        [-0.15490352],\n",
              "        [-0.1727016 ],\n",
              "        [ 0.08655471],\n",
              "        [ 0.3224024 ],\n",
              "        [-0.04271713],\n",
              "        [-0.31597382],\n",
              "        [ 0.21964774]], dtype=float32)>,\n",
              " <tf.Variable 'output_layer/bias:0' shape=(1,) dtype=float32, numpy=array([0.], dtype=float32)>]"
            ]
          },
          "metadata": {},
          "execution_count": 28
        }
      ]
    },
    {
      "cell_type": "markdown",
      "source": [
        "## 2.5 Random initialization of network coefficients\n",
        "\n",
        "By default, the kernel coefficients $w_i$ and $a_i$ are initialized at random, whereas the bias coefficients $b_i$ are set to zero. To change this, set  `bias_initializer=tf.keras.initializers.RandomNormal(mean=0., stddev=1.)` when constructing the layers; see [here](https://keras.io/api/layers/initializers/#randomnormal-class) for instructions."
      ],
      "metadata": {
        "id": "BNOco0hi7Np6"
      }
    },
    {
      "cell_type": "code",
      "source": [
        "model = tf.keras.models.Sequential([\n",
        "  # TODO add layers with random bias here\n",
        "])\n",
        "\n",
        "model.compile()\n",
        "\n",
        "plt.plot(np.linspace(-3, 3, 100), model.predict(np.linspace(-3, 3, 100)))\n",
        "plt.show()"
      ],
      "metadata": {
        "id": "BA6G_hN74VLL"
      },
      "execution_count": null,
      "outputs": []
    },
    {
      "cell_type": "markdown",
      "source": [
        "Execute the above cell several times. You should now see a piecewise linear function, which changes each time you run the code. The function will have a lot of kinks (how many?) and may look quite smooth for this reason."
      ],
      "metadata": {
        "id": "GOsfKHBcCKXG"
      }
    },
    {
      "cell_type": "markdown",
      "source": [
        "## 2.6 Learning a sine function\n",
        "\n",
        "The goal here is to learn the sine function."
      ],
      "metadata": {
        "id": "LCbUIMi1IGE3"
      }
    },
    {
      "cell_type": "code",
      "source": [
        "plt.plot(np.linspace(-3, 3, 100), np.sin(np.linspace(-3, 3, 100)), 'r')\n",
        "plt.show()"
      ],
      "metadata": {
        "id": "AAt7x2qXPQQE"
      },
      "execution_count": null,
      "outputs": []
    },
    {
      "cell_type": "markdown",
      "source": [
        "The learning algorithm gets access to the ground truth (i.e., the sine function) only via noisy random samples. Specifically, it will be fed $N=10^3$ random samples $(x_i,y_i)$, where $x_i$ is uniformly distributed on the interval $[-3,3]$, and where $y_i=\\sin(x_i)+\\epsilon_i$ for some normally distributed $\\epsilon_i$ with mean zero and standard deviation $1/10$. "
      ],
      "metadata": {
        "id": "92wx4HfQIuww"
      }
    },
    {
      "cell_type": "code",
      "source": [
        "N = 1000\n",
        "x_train = np.random.uniform(low=-3, high=3, size=N)\n",
        "y_train = np.sin(x_train)+np.random.normal(loc=0.0, scale=0.1, size=N)\n",
        "plt.plot(x_train, y_train, '.g')"
      ],
      "metadata": {
        "id": "JUdieJBzIFcv"
      },
      "execution_count": null,
      "outputs": []
    },
    {
      "cell_type": "markdown",
      "source": [
        "We are now ready to train the model. To this aim, `compile` the model as you did before, but specify `tf.keras.optimizers.Adam()` as optimizer and `tf.keras.losses.MeanSquaredError()` as loss function. Then, `fit` the model using 100 epochs. The tutorial [TensorFlow 2 Quickstart for Beginners](https://colab.research.google.com/github/tensorflow/docs/blob/master/site/en/tutorials/quickstart/beginner.ipynb) explains how to do this. As an aside, to suppress the lengthy output of the `fit` command, you can set `verbose=0`."
      ],
      "metadata": {
        "id": "r_9MyY6zLhTz"
      }
    },
    {
      "cell_type": "code",
      "source": [
        "# TODO compile and then fit the model\n",
        "\n",
        "plt.plot(np.linspace(-3, 3, 100), model.predict(np.linspace(-3, 3, 100)))\n",
        "plt.plot(np.linspace(-3, 3, 100), np.sin(np.linspace(-3, 3, 100)), 'r')\n",
        "plt.show()"
      ],
      "metadata": {
        "id": "5hC6IHLSLgkx"
      },
      "execution_count": null,
      "outputs": []
    },
    {
      "cell_type": "markdown",
      "source": [
        "## 2.7 Freezing the coefficients of the lower layer\n",
        "\n",
        "To a large extent, deep learning is linear regression with random features. To see this, freeze the coefficients of the bottom layer during training as explained [here](https://keras.io/api/layers/base_layer/#trainable-property). As the model is linear in the top-layer coefficients $w_i$, training then reduces to a linear regression problem. Of course, the regression will work well only if the random features are well-chosen. In the present setting, this means that you **must** randomly initialize the bias as in problem 2.4. (Feel free to try.)"
      ],
      "metadata": {
        "id": "I_FO9h4wMJ2P"
      }
    },
    {
      "cell_type": "code",
      "source": [
        "model = tf.keras.models.Sequential([\n",
        "  # TODO add layers with random bias as in problem 2.5 \n",
        "])\n",
        "\n",
        "# set trainable = False for the coefficients of the bottom layer\n",
        "\n",
        "# train the model as you did in problem 2.6\n",
        "\n",
        "plt.plot(np.linspace(-3, 3, 100), model.predict(np.linspace(-3, 3, 100)))\n",
        "plt.plot(np.linspace(-3, 3, 100), np.sin(np.linspace(-3, 3, 100)), 'r')\n",
        "plt.show()"
      ],
      "metadata": {
        "id": "U_s6_JUkMnao"
      },
      "execution_count": null,
      "outputs": []
    }
  ]
}